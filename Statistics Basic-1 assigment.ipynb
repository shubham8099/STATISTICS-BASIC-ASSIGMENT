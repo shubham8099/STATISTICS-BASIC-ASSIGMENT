{
 "cells": [
  {
   "cell_type": "markdown",
   "id": "7dbb0ea4-d7a0-4929-a275-ef11577d2a5b",
   "metadata": {},
   "source": [
    "Q1. What is Statistics?"
   ]
  },
  {
   "cell_type": "markdown",
   "id": "2245e55b-9e15-4a52-9ce5-d009ead38fec",
   "metadata": {},
   "source": [
    "* Statistics is branch of mathematics that involve collecting , organizing , analyzing , interpreting , presenting and summarise the data . it provide method for inferensing and drawing the conclusion about population based on the sample data Statistics play a cruical role in various field like science , mathematics , commerce , buissnes social science and goverment and many more field ."
   ]
  },
  {
   "cell_type": "markdown",
   "id": "c53d9f32-9b92-4f65-8218-a4a553e31319",
   "metadata": {},
   "source": [
    "Q2. Define the different types of statistics and give an example of when each type might be used."
   ]
  },
  {
   "cell_type": "markdown",
   "id": "1e1f63ab-713d-4393-be5a-d074ac4da907",
   "metadata": {
    "tags": []
   },
   "source": [
    "* types of Different Statistics :- \n",
    "\n",
    "* There are basically two types of Statisstics which are used in the Research and other program .\n",
    "\n",
    "# Descriptive Statistics:\n",
    "\n",
    "* Definition: Descriptive statistics involve the presentation and summary of data to provide a clear and meaningful description. They describe the main features of a dataset, such as central tendency and variability.\n",
    "\n",
    "* Example: If we have a dataset of students' exam scores, you might use descriptive statistics to calculate the mean (average) score, the median (middle score), and the standard deviation (a measure of how spread out the scores are). This information helps to understand the overall performance of the students in the class.\n",
    "\n",
    "# Inferential Statistics:\n",
    "\n",
    "* Definition: Inferential statistics involve making inferences or predictions about a population based on a sample of data. These methods allow researchers to draw conclusions beyond the specific observations in the dataset.\n",
    "\n",
    "* Example: Suppose a pharmaceutical company develops a new drug and wants to know if it is effective in reducing blood pressure. They might conduct a clinical trial with a sample of patients. Inferential statistics would be used to analyze the data from the sample and make inferences about whether the drug is likely to be effective for the entire population of individuals with high blood pressure."
   ]
  },
  {
   "cell_type": "markdown",
   "id": "39819070-63ad-4c7d-b278-0cbf4765421b",
   "metadata": {},
   "source": [
    "Q3.  What are the different types of data and how do they differ from each other? Provide an example of\n",
    "each type of data.\n"
   ]
  },
  {
   "cell_type": "markdown",
   "id": "03a67042-9253-425d-b622-54c14b8264d3",
   "metadata": {},
   "source": [
    "Data are different types based on their nature and their cahracterstistics :-\n",
    "\n",
    "# Nomial Data \n",
    "\n",
    "* Nomial Data represent the categories with no Ranking or inherent order . they are used for the labeling the variables\n",
    "  and the Categories have no Quantative significance . \n",
    "\n",
    "* Example :- Color of Car(red, green , blue ) or types of Animal(Cat , Dog) Male/Female are the Example of Nominal Data\n",
    "             their Category are different without their Ranking . \n",
    "\n",
    "# Ordinal Data \n",
    "\n",
    "* Ordinal Data represnt the categories with meaingful order or ranking . but the interval between them are not consistent\n",
    "  or meaningful . the Differences between their Categories are not Standardized . \n",
    "  \n",
    "* Example :- Education Level such as high School , bachelor Degree , master degree the difference between high school\n",
    "             bachelor degree is not same as the differnce between bachelor degree and Master Degree .\n",
    "             \n",
    "# Interval Data \n",
    "\n",
    "* Interval Data have consistent and have meaningful order with equal interval between values . However the Zero point\n",
    "  is arbitary and does not represent the absence of the quantity being measured. \n",
    "  \n",
    "* Example :- Temperature measured in Celsius or Fahrenheit is an example of interval data. The difference between 20 and 30 degrees Celsius is the same as the difference between 30 and 40 degrees Celsius, but a temperature of 0 degrees does not mean the absence of temperature.\n",
    "\n",
    "# Ratio Data \n",
    "\n",
    "* Ratio Data have the consistent order,equal interval , and meaningful Zero point that represent the absence of Quantity\n",
    "  being Measured. Ratios Between valus are very Meaningful .\n",
    " \n",
    "* Examples :-  Height, weight, and income are examples of ratio data. A height of 0 cm or a weight of 0 kg indicates the absence of height or weight, and ratios such as one person being twice as tall as another are meaningful."
   ]
  },
  {
   "cell_type": "markdown",
   "id": "93c04326-dcff-4d22-85f2-27ce5517bf7a",
   "metadata": {},
   "source": [
    "Q4. Categorise the following datasets with respect to quantitative and qualitative data types:\n",
    "\n",
    "(i)\tGrading in exam: A+, A, B+, B, C+, C, D, E\n",
    "\n",
    "(ii)\tColour of mangoes: yellow, green, orange, red\n",
    "\n",
    "(iii)\tHeight data of a class: [178.9, 179, 179.5, 176, 177.2, 178.3, 175.8,...]\n",
    "\n",
    "(iv)\tNumber of mangoes exported by a farm: [500, 600, 478, 672, …]"
   ]
  },
  {
   "cell_type": "markdown",
   "id": "e4c281b6-23c9-46d4-b330-29c02d996a1f",
   "metadata": {},
   "source": [
    "# Grade in the exam :- A+, A, B+, B, C+, C, D, E\n",
    "* Type => Qualitative(Ordinal)\n",
    "* Explaination => The Grade represent the A+ with the highest Rank or order and E grade represent the lowest\n",
    "                  but the interval between the grades are not Consistent . \n",
    "                  \n",
    "# Colour of Mangoes :- yellow , green , oranges , Red\n",
    "* Types => Qualitative(Nominal)\n",
    "* Explaination => The Colour are the different Categories but there are no Ranking between them . \n",
    "\n",
    "# Height Data of a Class : [178.9,179,179.5,176,177.2,178.3,175.8,......]\n",
    "* Types => Quantative(Ratio Data)\n",
    "* Explaination => Heights are measured in the numerical order with the equal intervals .\n",
    "\n",
    "#  Number of mangoes exported by a farm: [500, 600, 478, 672, …]\n",
    "* Types => Quantative(Ratio Data)\n",
    "* Explaintion => the number of mangoes exported on numerical Scale with a Equal intervals"
   ]
  },
  {
   "cell_type": "markdown",
   "id": "614c312f-f43c-48b9-8b1a-9d739646a972",
   "metadata": {},
   "source": [
    "Q5. Explain the concept of levels of measurement and give an example of a variable for each level."
   ]
  },
  {
   "cell_type": "markdown",
   "id": "5a192a85-d9ac-4c55-8881-975b9ebecbff",
   "metadata": {},
   "source": [
    "# Level of Measurement ^_^\n",
    "\n",
    "* Level of Measurement are also known as the Scale of measurement Refer to the way in which the variables are\n",
    "  Measured and Categories . There Are Four Level of Measurement Nominal , Ordinal , Ratios , Interval . \n",
    "  \n",
    "  \n",
    "# Nominal Level @_@\n",
    "\n",
    "* Characterstics :- Nominal Level are Categorical And Represent the Different Categories with no inherent and Ranking.\n",
    "* Examples :- Eye colour are the Nominal Variabl . Categories such as(Blue , Green , Red , Brown)\n",
    "\n",
    "# Ordinal Level ^_^ \n",
    "\n",
    "* Characterstics :- Ordinal Level Represent the Categories with meaningful order or Ranking . But the interval between\n",
    "                    them are not consistent .\n",
    "* Examples :- Categories such as high school, bachelor's degree, master's degree, and Ph.D. have an order, but the difference in educational level between high school and bachelor's degree may not be the same as between bachelor's and master's degrees.\n",
    "\n",
    "# Interval Level +_+\n",
    "\n",
    "* Characterstics :- Interval Level have Consistent order , Equal interval between Values but they have arbitary Zero Point .\n",
    "* Examples :- The difference between 20 and 30 degrees Celsius is the same as the difference between 30 and 40 degrees Celsius, but a temperature of 0 degrees does not mean the absence of temperature.\n",
    "\n",
    "# Ratios Level ^_^\n",
    "\n",
    "* Characterstics :- Retios level have Consistent order , Equal intrval between values and they have Meaningful Zero point\n",
    "                    which Represent the absence the Quantity.\n",
    "* Examples :- Height is a ratio variable. Heights are measured in a consistent order with equal intervals, and a height of 0 implies the absence of height.                    "
   ]
  },
  {
   "cell_type": "markdown",
   "id": "e13959f6-2ad2-4f4c-a0a1-3a5074804f07",
   "metadata": {},
   "source": [
    "Q6. Why is it important to understand the level of measurement when analyzing data? Provide an\n",
    "example to illustrate your answer."
   ]
  },
  {
   "cell_type": "markdown",
   "id": "15b5f531-c696-4bf2-9cac-faf3cf7636ee",
   "metadata": {},
   "source": [
    "* It is important to Understand the Level of Measurement When the analyzing of Data Because Level of measurement help\n",
    "  us to know what types of Data we are analyzing and what kind of possible outcome are consider . Level of measurement\n",
    "  provide us an idea in which we can easily analyzing or Categorised our Data and we can give outcomes of the data . They\n",
    "  help us in the measurement of the Data . \n",
    "  \n",
    "# Appropriate Statistical Analysis:\n",
    "\n",
    "* Different levels of measurement require different statistical methods. For example, nominal and ordinal data may be   analyzed using non-parametric tests, while interval and ratio data allow for more advanced parametric analyses. Using the wrong statistical method can lead to inaccurate results and conclusions.\n",
    "\n",
    "# Meaningful Arithmetic Operations:\n",
    "\n",
    "* Arithmetic operations such as addition, subtraction, multiplication, and division may not be meaningful for all levels of measurement. For instance, while you can calculate the average (mean) for interval and ratio data, it is not meaningful for ordinal or nominal data. Knowing the level of measurement helps prevent inappropriate use of arithmetic operations.\n",
    "\n",
    "# Data Presentation and Interpretation:\n",
    "\n",
    "* The level of measurement influences how data can be presented and interpreted. For example, bar charts and pie charts are suitable for nominal data, while line charts and histograms are more appropriate for interval and ratio data. Understanding the level of measurement guides the choice of appropriate data visualization techniques.\n",
    "\n",
    "# Informed Decision Making:\n",
    "\n",
    "* Knowledge of the level of measurement allows researchers and analysts to make informed decisions about the most suitable statistical techniques, ensuring the reliability and validity of their findings. This is critical for drawing accurate conclusions and making sound recommendations based on the data.  \n",
    "\n",
    "* Let us Taking an Example of Theses Points :-\n",
    "\n",
    "# Consider a scenario where we have data on customer satisfaction with a product, measured on a scale of \"very dissatisfied,\" \"dissatisfied,\" \"neutral,\" \"satisfied,\" and \"very satisfied\" (ordinal data). If you incorrectly treat this ordinal data as interval data and calculate the mean satisfaction score, you might get a numerical result, but it would not be meaningful. Ordinal data lacks a consistent interval between categories, and the arithmetic mean does not accurately reflect the central tendency of the satisfaction levels. Understanding the level of measurement prevents such misinterpretations and ensures that appropriate statistical techniques are applied."
   ]
  },
  {
   "cell_type": "markdown",
   "id": "815f9447-b85c-43c6-9480-619dfe2af583",
   "metadata": {},
   "source": [
    "Q7. How nominal data type is different from ordinal data type."
   ]
  },
  {
   "cell_type": "markdown",
   "id": "a96ec2b5-574e-4ab6-ac7b-98b2cf123b46",
   "metadata": {},
   "source": [
    "# Nominal Data ^_^ \n",
    "\n",
    "* Nominal Data is a Type of Data in which the they classified the Data in the different Categories\n",
    "  But there is No Ranking between Them .\n",
    "  \n",
    "* Example => Eye Color(Red,Green,Blue,Brown) Are the Example of Nominal Data \n",
    "\n",
    "* In the Nominal Data they can Classify the Data Without any Ranking or Order\n",
    "\n",
    "* We can Show the Nominal Data in the Pie Chart of the various Group\n",
    "\n",
    "# Ordinal Data @_@\n",
    "\n",
    "* Nominal Data is a type of the with Meaingful Order or Ranking in which they can claasified the Data on their Ranking\n",
    "  But the interval between them is not Consistent .\n",
    "  \n",
    "* Example => We can see it on the basis of the Education like - High School Degree and Bachelor Degree and Master \n",
    "             Degree the difference between High School Degree and Bachelor Degree is not same on the other Hand \n",
    "             the difference Between Bachelor Degree and Master Degree is Not make Big Difference they are like same.\n",
    "\n",
    "* In the Ordinal Data They Can Classify the Various Group with their Ranking but interval Between them is not same \n",
    "  or Consistent .\n",
    "  \n",
    "* We can show or Visualize the Nominal Data set into the on the Histogram .  "
   ]
  },
  {
   "cell_type": "markdown",
   "id": "bb4dfbd8-3408-43f5-9248-15bb5fc41783",
   "metadata": {},
   "source": [
    "Q8. Which type of plot can be used to display data in terms of range?"
   ]
  },
  {
   "cell_type": "markdown",
   "id": "757f179a-c3e8-4e9b-ae5e-cb128d18bc70",
   "metadata": {},
   "source": [
    "* A Box Plot also known as Box-and-wisker Plot , is type of plot which is used for the to show the Data\n",
    "  In the Term of Range . Box plot provide a visual summary of the distribution of the data set showing the\n",
    "  minimum , first quartile , median , third quartile , and the maximum values . The Box \"Represent\" the \n",
    "  interquartile(IQR) between the first and third quartile while the Wisker extend to minimum and Maximum\n",
    "  Value .\n",
    "\n",
    "* Box Plot are Particularly useful for Comparing the Spread and the Central Tendency of the Different Data set \n",
    "  or ofr indentity the outliers . They are effecting in the showing of the varibility and range of Dataset , \n",
    "  making them a valueable tool in the explority of Data analyzing . "
   ]
  },
  {
   "cell_type": "markdown",
   "id": "0e8573a6-f363-498a-a68d-ca0932af5b87",
   "metadata": {},
   "source": [
    "Q9. Describe the difference between descriptive and inferential statistics. Give an example of each\n",
    "type of statistics and explain how they are used."
   ]
  },
  {
   "cell_type": "markdown",
   "id": "a6625782-e452-4c34-981a-26536c154373",
   "metadata": {},
   "source": [
    "# Descriptive Statistics %_%\n",
    "\n",
    "* Descriptive Statistics involve in the Presentation And the summary of Data to Provide the Clear or Meaningful \n",
    "  Discription or conclusion,They are Helpful for the Knowing the main features of the Data set like Central\n",
    "  Tendency or Varibility . They Provide a way to organize the summarise the large amount of the Data , making\n",
    "  it more understandable .\n",
    "\n",
    "* Let us Taking an example :-\n",
    "\n",
    "* Let's consider the following dataset representing the ages of a group of individuals: 25, 28, 30, 32, 35, 38, 40, 42, 45, 50.\n",
    "\n",
    "# Measure the Central Tendency ^_^ \n",
    " \n",
    " * Mean(Average) :- To find the mean Add all the values and then Divide them  by Number of Values.\n",
    "   \n",
    "   * Mean => (25+28+30+32+35+38+40+42+45+50)/10 = 37\n",
    "\n",
    " * Median(Middle Value) :- Arrange the Data in the Acending order and find the middle Value .\n",
    "   * Acending Order => 25, 28, 30, 32, 35, 38, 40, 42, 45, 50.\n",
    "   => Since there are 10 value the median average is 5th and 6th position which is 38 and 40.\n",
    "   \n",
    "   * Median = (38+40)/2 = 39 .\n",
    "   \n",
    " * Mode(Most common Value) :- The mode is the value which apper most Frequently , In this Case there is No mode \n",
    "                              Because all the number appear only one Time . \n",
    "                              \n",
    "# Measur of Dispersion\n",
    " \n",
    " * Range :- The Range is the value of Difference between Miniumum and Maximum value . \n",
    "   * Range => Maximum Value - Munimum Value = 50 - 25 = 25 \n",
    "   \n",
    " * Interquartile Range(IQR) :- The IQR is the Range of value within the middle 50% of the Dataset . It is the Calculated\n",
    "                               as the difference between Thirdquartile(Q3) and the firstquartile(Q1) .\n",
    "                               \n",
    "      * IQR = Q3-Q1 \n",
    "      \n",
    "# Measure of the Shape .      \n",
    "     \n",
    "  * Skewness :- Skewness measure the asymmetry of the Data Distribution . A positive skewness indicates a Right-skewed\n",
    "                Distribution . while a negative indicates the left-skewed Distribution .\n",
    "                \n",
    "  * Frequency Distribution :- Creating a Table or graph showing how often each value occurs in the Dataset .             "
   ]
  },
  {
   "cell_type": "markdown",
   "id": "9450573b-4b3e-4863-832b-d9f77f9d62eb",
   "metadata": {},
   "source": [
    "Q10. What are some common measures of central tendency and variability used in statistics? Explain\n",
    "how each measure can be used to describe a dataset.\n"
   ]
  },
  {
   "cell_type": "markdown",
   "id": "dfb3288c-8fdc-442e-9c60-511b1966a1f9",
   "metadata": {},
   "source": [
    "# Measure of Central Tendency ^_^\n",
    "\n",
    "  * Mean(Average) :- Add all of the Data set and then Divide by the number of Values.\n",
    "     \n",
    "     * USE => The mean Represent the centre of the distribution and is sensitive to extreme value . It is appropriate \n",
    "              for data with symmetric Distribution . \n",
    "              \n",
    "  * Median(Middle Value) :- Arrange all the value in the acending order and find the middle value.\n",
    "  \n",
    "     * USE => The is less effective by extreme value and is suitable for dataset with outliers . It give better\n",
    "              Representation of the central Tendency for Skewed Distribution . \n",
    "              \n",
    "  * Mode(Most common Value) :- Identitfy the most frequently in the Dataset . \n",
    "  \n",
    "    * USE => The mode is used for Categorical Data and can provide insights into the most common outcomes in a \n",
    "             Dataset . \n",
    "             \n",
    "# Measure of Variability @_@      \n",
    "\n",
    "  * Range\n",
    "    \n",
    "    * Calculation :- The Difference between the Maximum and the minimum values in the Dataset.\n",
    "    \n",
    "    * USE => Provide a simple measure of the spread of the data .\n",
    "    \n",
    "  * Interquartile Range(IQR) ^_^\n",
    "  \n",
    "    * Calculation :- The Range value within the middle of 50% of the Dataset , as calculated as the difference between\n",
    "                     the thirdquartile(Q3) and the firsttquartile(Q1) . \n",
    "                     \n",
    "    * USE => IQR gives the measure of the spread of the central part of the distribution .       \n",
    "    \n",
    "  * Variance @_@\n",
    "    \n",
    "    * Calculation :- The average of the squared difference from the mean .\n",
    "    \n",
    "    * USE => Provide a meausre of how much individual values deviate from the mean . \n",
    "    \n",
    "  * Standard Deviation +_+\n",
    "  \n",
    "    * Calculation :- The Square Root of the variance .\n",
    "    \n",
    "    * USe => Represent the average distance of each point from the point .\n",
    "    \n",
    "  * Coefficient of Variation(CV) :-\n",
    "  \n",
    "    * Calculation :- The standard Deviation divided by the Mean , expressed as a percentage . \n",
    "    \n",
    "    * USE => Measure the relative variability in relation to the mean , provide a standardrize \n",
    "             way to compare the variability of dataset with different units ."
   ]
  },
  {
   "cell_type": "code",
   "execution_count": null,
   "id": "57c9e5db-99dc-4337-9f4d-54ca6db0238b",
   "metadata": {},
   "outputs": [],
   "source": []
  }
 ],
 "metadata": {
  "kernelspec": {
   "display_name": "Python 3 (ipykernel)",
   "language": "python",
   "name": "python3"
  },
  "language_info": {
   "codemirror_mode": {
    "name": "ipython",
    "version": 3
   },
   "file_extension": ".py",
   "mimetype": "text/x-python",
   "name": "python",
   "nbconvert_exporter": "python",
   "pygments_lexer": "ipython3",
   "version": "3.10.8"
  }
 },
 "nbformat": 4,
 "nbformat_minor": 5
}
